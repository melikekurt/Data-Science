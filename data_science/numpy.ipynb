{
 "cells": [
  {
   "cell_type": "code",
   "execution_count": 1,
   "id": "0cbe1bb0-4bfc-4ee0-81a8-0afad0d84a4c",
   "metadata": {},
   "outputs": [],
   "source": [
    "import numpy as np"
   ]
  },
  {
   "cell_type": "code",
   "execution_count": 2,
   "id": "a0490784-ff6c-44c8-bd11-2f820b2aa7ae",
   "metadata": {},
   "outputs": [
    {
     "data": {
      "text/plain": [
       "array([[1, 1, 1, 1, 1],\n",
       "       [1, 1, 1, 1, 1],\n",
       "       [1, 1, 1, 1, 1]])"
      ]
     },
     "execution_count": 2,
     "metadata": {},
     "output_type": "execute_result"
    }
   ],
   "source": [
    "np.ones((3,5),dtype = 'int')"
   ]
  },
  {
   "cell_type": "code",
   "execution_count": 3,
   "id": "3b9e2bdc-43db-4621-b8ee-0b51c8fec346",
   "metadata": {},
   "outputs": [
    {
     "data": {
      "text/plain": [
       "array([[3, 3, 3, 3, 3],\n",
       "       [3, 3, 3, 3, 3],\n",
       "       [3, 3, 3, 3, 3]])"
      ]
     },
     "execution_count": 3,
     "metadata": {},
     "output_type": "execute_result"
    }
   ],
   "source": [
    "np.full((3,5),3)"
   ]
  },
  {
   "cell_type": "markdown",
   "id": "711e675d-1339-480e-a61b-0cdb7d38eb0c",
   "metadata": {},
   "source": [
    "**Array Özellikleri**"
   ]
  },
  {
   "cell_type": "markdown",
   "id": "0390b8af-cc4c-4718-b35a-8c66bf76ea60",
   "metadata": {},
   "source": [
    "* ndim: boyut sayısı\n",
    "* shape: boyut bilgisi\n",
    "* size : toplam eleman sayısı\n",
    "* dtype : array veri tipi "
   ]
  },
  {
   "cell_type": "code",
   "execution_count": 4,
   "id": "16e508d8-5d3d-41b6-9154-4bda30ac3a6c",
   "metadata": {},
   "outputs": [],
   "source": [
    "a= np.random.randint(10, size=10)"
   ]
  },
  {
   "cell_type": "code",
   "execution_count": 5,
   "id": "4abbb705-f017-477b-8078-836a5efa06b4",
   "metadata": {},
   "outputs": [
    {
     "data": {
      "text/plain": [
       "1"
      ]
     },
     "execution_count": 5,
     "metadata": {},
     "output_type": "execute_result"
    }
   ],
   "source": [
    "a.ndim   #tek boyutlu dizi"
   ]
  },
  {
   "cell_type": "code",
   "execution_count": 6,
   "id": "f6d6a461-5d68-47f0-8d88-5244f431e2be",
   "metadata": {},
   "outputs": [
    {
     "data": {
      "text/plain": [
       "(10,)"
      ]
     },
     "execution_count": 6,
     "metadata": {},
     "output_type": "execute_result"
    }
   ],
   "source": [
    "a.shape"
   ]
  },
  {
   "cell_type": "code",
   "execution_count": 7,
   "id": "be401b79-74e1-4041-95fb-8d38440c2690",
   "metadata": {},
   "outputs": [
    {
     "data": {
      "text/plain": [
       "10"
      ]
     },
     "execution_count": 7,
     "metadata": {},
     "output_type": "execute_result"
    }
   ],
   "source": [
    "a.size"
   ]
  },
  {
   "cell_type": "code",
   "execution_count": 8,
   "id": "26085ba8-9ece-404d-8dc2-b682bfc4a0dd",
   "metadata": {},
   "outputs": [
    {
     "data": {
      "text/plain": [
       "dtype('int32')"
      ]
     },
     "execution_count": 8,
     "metadata": {},
     "output_type": "execute_result"
    }
   ],
   "source": [
    "a.dtype"
   ]
  },
  {
   "cell_type": "code",
   "execution_count": 9,
   "id": "c978abcf-6f75-421e-8d10-118c029c58cd",
   "metadata": {},
   "outputs": [],
   "source": [
    "b = np.random.randint(10, size=(3,5))"
   ]
  },
  {
   "cell_type": "code",
   "execution_count": 10,
   "id": "83cc30af-945b-4840-bc41-992621d739e4",
   "metadata": {},
   "outputs": [
    {
     "data": {
      "text/plain": [
       "array([[2, 8, 1, 9, 9],\n",
       "       [5, 6, 8, 4, 9],\n",
       "       [2, 1, 0, 9, 8]])"
      ]
     },
     "execution_count": 10,
     "metadata": {},
     "output_type": "execute_result"
    }
   ],
   "source": [
    "b"
   ]
  },
  {
   "cell_type": "code",
   "execution_count": 11,
   "id": "40f2abf9-8b74-4997-928c-3d93d1e057ef",
   "metadata": {},
   "outputs": [
    {
     "data": {
      "text/plain": [
       "2"
      ]
     },
     "execution_count": 11,
     "metadata": {},
     "output_type": "execute_result"
    }
   ],
   "source": [
    "b.ndim"
   ]
  },
  {
   "cell_type": "code",
   "execution_count": 12,
   "id": "b8944735-85d0-4a0d-8406-3bddd174bede",
   "metadata": {},
   "outputs": [
    {
     "data": {
      "text/plain": [
       "(3, 5)"
      ]
     },
     "execution_count": 12,
     "metadata": {},
     "output_type": "execute_result"
    }
   ],
   "source": [
    "b.shape"
   ]
  },
  {
   "cell_type": "markdown",
   "id": "59b81e54-00ec-4532-9d8d-5a3043efae26",
   "metadata": {},
   "source": [
    "**Yeniden Şekillendirme (reshaping)**"
   ]
  },
  {
   "cell_type": "code",
   "execution_count": 13,
   "id": "27a21061-631d-4078-b503-ea2d700b1d5e",
   "metadata": {},
   "outputs": [
    {
     "data": {
      "text/plain": [
       "array([1, 2, 3, 4, 5, 6, 7, 8, 9])"
      ]
     },
     "execution_count": 13,
     "metadata": {},
     "output_type": "execute_result"
    }
   ],
   "source": [
    "np.arange(1,10)"
   ]
  },
  {
   "cell_type": "code",
   "execution_count": 14,
   "id": "66158e14-687c-47b2-afb5-5a40ed8049ec",
   "metadata": {},
   "outputs": [
    {
     "data": {
      "text/plain": [
       "array([[1, 2, 3],\n",
       "       [4, 5, 6],\n",
       "       [7, 8, 9]])"
      ]
     },
     "execution_count": 14,
     "metadata": {},
     "output_type": "execute_result"
    }
   ],
   "source": [
    "np.arange(1,10).reshape(3,3)"
   ]
  },
  {
   "cell_type": "markdown",
   "id": "0d9deba5-adf4-44e8-8a2c-a466c88d3fe8",
   "metadata": {},
   "source": [
    "**Array Birleştirme**"
   ]
  },
  {
   "cell_type": "code",
   "execution_count": 15,
   "id": "89510928-3070-48a7-9f98-241f33d51d8e",
   "metadata": {},
   "outputs": [],
   "source": [
    "x = np.array([1,2,3])\n",
    "y = np.array([4,5,6])"
   ]
  },
  {
   "cell_type": "code",
   "execution_count": 16,
   "id": "032abf1b-935d-4efd-b2c9-3244ff52d022",
   "metadata": {},
   "outputs": [
    {
     "data": {
      "text/plain": [
       "array([1, 2, 3, 4, 5, 6])"
      ]
     },
     "execution_count": 16,
     "metadata": {},
     "output_type": "execute_result"
    }
   ],
   "source": [
    "np.concatenate([x,y])"
   ]
  },
  {
   "cell_type": "code",
   "execution_count": 17,
   "id": "8b196a54-dafa-460a-bc3e-cc50deee4165",
   "metadata": {},
   "outputs": [],
   "source": [
    "z = np.array([7,8,9])"
   ]
  },
  {
   "cell_type": "code",
   "execution_count": 18,
   "id": "4cdc4c1b-dad2-4ba3-bcaa-be11291d770b",
   "metadata": {},
   "outputs": [
    {
     "data": {
      "text/plain": [
       "array([1, 2, 3, 4, 5, 6, 7, 8, 9])"
      ]
     },
     "execution_count": 18,
     "metadata": {},
     "output_type": "execute_result"
    }
   ],
   "source": [
    "np.concatenate([x,y,z])"
   ]
  },
  {
   "cell_type": "code",
   "execution_count": 19,
   "id": "a348d842-8ffa-4dc1-bb68-d9f7d49dff65",
   "metadata": {},
   "outputs": [],
   "source": [
    "#iki boyut"
   ]
  },
  {
   "cell_type": "code",
   "execution_count": 20,
   "id": "ba0f9272-3c4c-417a-bf27-320c461bab8a",
   "metadata": {},
   "outputs": [],
   "source": [
    "a= np.array([[1,2,3],\n",
    "            [4,5,6]])"
   ]
  },
  {
   "cell_type": "code",
   "execution_count": 21,
   "id": "fd15ca1e-21dd-4ba5-9131-b34556391076",
   "metadata": {},
   "outputs": [
    {
     "data": {
      "text/plain": [
       "array([[1, 2, 3],\n",
       "       [4, 5, 6],\n",
       "       [1, 2, 3],\n",
       "       [4, 5, 6]])"
      ]
     },
     "execution_count": 21,
     "metadata": {},
     "output_type": "execute_result"
    }
   ],
   "source": [
    "np.concatenate([a,a])"
   ]
  },
  {
   "cell_type": "code",
   "execution_count": 22,
   "id": "f6c1886f-f4b9-456c-a45e-91820649e3fb",
   "metadata": {},
   "outputs": [
    {
     "data": {
      "text/plain": [
       "array([[1, 2, 3, 1, 2, 3],\n",
       "       [4, 5, 6, 4, 5, 6]])"
      ]
     },
     "execution_count": 22,
     "metadata": {},
     "output_type": "execute_result"
    }
   ],
   "source": [
    "np.concatenate([a,a] , axis=1)  #sütun bazında bırlestırme"
   ]
  },
  {
   "cell_type": "markdown",
   "id": "d031a584-3b81-4010-a092-c92e461f6ee9",
   "metadata": {},
   "source": [
    "**Array Ayırma**"
   ]
  },
  {
   "cell_type": "code",
   "execution_count": 23,
   "id": "6f3a4daf-c93a-4643-a0fb-1a2ae30458f8",
   "metadata": {},
   "outputs": [],
   "source": [
    "x = np.array([1,2,3,99,99,3,2,1])"
   ]
  },
  {
   "cell_type": "code",
   "execution_count": 24,
   "id": "72e6b33b-7260-4303-a5a8-42f5fda5a059",
   "metadata": {},
   "outputs": [],
   "source": [
    "a,b,c =np.split(x,[3,5])"
   ]
  },
  {
   "cell_type": "code",
   "execution_count": 25,
   "id": "0786b948-d8e5-4be3-bb9f-73aa1b24c0c6",
   "metadata": {},
   "outputs": [
    {
     "data": {
      "text/plain": [
       "array([1, 2, 3])"
      ]
     },
     "execution_count": 25,
     "metadata": {},
     "output_type": "execute_result"
    }
   ],
   "source": [
    "a"
   ]
  },
  {
   "cell_type": "code",
   "execution_count": 26,
   "id": "cc176d26-14dc-4755-9e43-1d03edd744c2",
   "metadata": {},
   "outputs": [
    {
     "data": {
      "text/plain": [
       "array([99, 99])"
      ]
     },
     "execution_count": 26,
     "metadata": {},
     "output_type": "execute_result"
    }
   ],
   "source": [
    "b"
   ]
  },
  {
   "cell_type": "code",
   "execution_count": 27,
   "id": "993edc01-9966-4dee-8c00-da1cb3eecb60",
   "metadata": {},
   "outputs": [
    {
     "data": {
      "text/plain": [
       "array([3, 2, 1])"
      ]
     },
     "execution_count": 27,
     "metadata": {},
     "output_type": "execute_result"
    }
   ],
   "source": [
    "c"
   ]
  },
  {
   "cell_type": "code",
   "execution_count": 28,
   "id": "8be3b7af-60d7-4ecb-a870-853ecf9ad87c",
   "metadata": {},
   "outputs": [],
   "source": [
    "#iki boyutlu ayırma"
   ]
  },
  {
   "cell_type": "code",
   "execution_count": 29,
   "id": "33b89796-3068-4ae4-89d3-4ad947d2521f",
   "metadata": {},
   "outputs": [
    {
     "data": {
      "text/plain": [
       "array([[ 0,  1,  2,  3],\n",
       "       [ 4,  5,  6,  7],\n",
       "       [ 8,  9, 10, 11],\n",
       "       [12, 13, 14, 15]])"
      ]
     },
     "execution_count": 29,
     "metadata": {},
     "output_type": "execute_result"
    }
   ],
   "source": [
    "m = np.arange(16).reshape(4,4)\n",
    "m"
   ]
  },
  {
   "cell_type": "code",
   "execution_count": 30,
   "id": "1211adee-ef3d-4808-b0b6-8c3f53257e3f",
   "metadata": {},
   "outputs": [],
   "source": [
    "ust,alt = np.vsplit(m,[2])"
   ]
  },
  {
   "cell_type": "code",
   "execution_count": 31,
   "id": "8ab5ac85-6acd-49d4-8994-fe7cbc8cb706",
   "metadata": {},
   "outputs": [
    {
     "data": {
      "text/plain": [
       "array([[0, 1, 2, 3],\n",
       "       [4, 5, 6, 7]])"
      ]
     },
     "execution_count": 31,
     "metadata": {},
     "output_type": "execute_result"
    }
   ],
   "source": [
    "ust"
   ]
  },
  {
   "cell_type": "code",
   "execution_count": 32,
   "id": "5ae18009-0387-4c8b-92a8-70d15940c280",
   "metadata": {},
   "outputs": [
    {
     "data": {
      "text/plain": [
       "array([[ 8,  9, 10, 11],\n",
       "       [12, 13, 14, 15]])"
      ]
     },
     "execution_count": 32,
     "metadata": {},
     "output_type": "execute_result"
    }
   ],
   "source": [
    "alt"
   ]
  },
  {
   "cell_type": "code",
   "execution_count": 33,
   "id": "b018dc79-28f2-426c-8c2c-b730fe870cda",
   "metadata": {},
   "outputs": [
    {
     "data": {
      "text/plain": [
       "array([[ 0,  1,  2,  3],\n",
       "       [ 4,  5,  6,  7],\n",
       "       [ 8,  9, 10, 11],\n",
       "       [12, 13, 14, 15]])"
      ]
     },
     "execution_count": 33,
     "metadata": {},
     "output_type": "execute_result"
    }
   ],
   "source": [
    "m"
   ]
  },
  {
   "cell_type": "code",
   "execution_count": 35,
   "id": "2443f59a-307b-4271-8fc1-ac1007fde06f",
   "metadata": {},
   "outputs": [],
   "source": [
    "sag,sol=np.hsplit(m,[2])"
   ]
  },
  {
   "cell_type": "code",
   "execution_count": 36,
   "id": "3c7f764c-c8d6-42f8-85e7-f07016f7f208",
   "metadata": {},
   "outputs": [
    {
     "data": {
      "text/plain": [
       "array([[ 0,  1],\n",
       "       [ 4,  5],\n",
       "       [ 8,  9],\n",
       "       [12, 13]])"
      ]
     },
     "execution_count": 36,
     "metadata": {},
     "output_type": "execute_result"
    }
   ],
   "source": [
    "sag"
   ]
  },
  {
   "cell_type": "code",
   "execution_count": 37,
   "id": "23ce8f42-f568-422b-849a-1d01036fa2b6",
   "metadata": {},
   "outputs": [
    {
     "data": {
      "text/plain": [
       "array([[ 2,  3],\n",
       "       [ 6,  7],\n",
       "       [10, 11],\n",
       "       [14, 15]])"
      ]
     },
     "execution_count": 37,
     "metadata": {},
     "output_type": "execute_result"
    }
   ],
   "source": [
    "sol"
   ]
  },
  {
   "cell_type": "markdown",
   "id": "5a9df088-991e-4725-b95b-9058bd2665c1",
   "metadata": {},
   "source": [
    "**Array Sıralama(Sorting)**"
   ]
  },
  {
   "cell_type": "code",
   "execution_count": 38,
   "id": "2aa9c2bc-f3bb-485f-8e6b-0a3f81982994",
   "metadata": {},
   "outputs": [],
   "source": [
    "v= np.array([2,1,4,3,5])"
   ]
  },
  {
   "cell_type": "code",
   "execution_count": 39,
   "id": "14adf1e9-c938-4879-bfb9-baa1822fef15",
   "metadata": {},
   "outputs": [
    {
     "data": {
      "text/plain": [
       "array([2, 1, 4, 3, 5])"
      ]
     },
     "execution_count": 39,
     "metadata": {},
     "output_type": "execute_result"
    }
   ],
   "source": [
    "v"
   ]
  },
  {
   "cell_type": "code",
   "execution_count": 40,
   "id": "d098e62c-8bbc-458b-aae0-b9d430f64ecf",
   "metadata": {},
   "outputs": [
    {
     "data": {
      "text/plain": [
       "array([1, 2, 3, 4, 5])"
      ]
     },
     "execution_count": 40,
     "metadata": {},
     "output_type": "execute_result"
    }
   ],
   "source": [
    "np.sort(v)"
   ]
  },
  {
   "cell_type": "code",
   "execution_count": 41,
   "id": "df024a96-f00a-458c-80fa-0bf20dddbe51",
   "metadata": {},
   "outputs": [
    {
     "data": {
      "text/plain": [
       "array([2, 1, 4, 3, 5])"
      ]
     },
     "execution_count": 41,
     "metadata": {},
     "output_type": "execute_result"
    }
   ],
   "source": [
    "v"
   ]
  },
  {
   "cell_type": "code",
   "execution_count": 42,
   "id": "e4d99557-1fa6-440b-a1ed-5fb801f77215",
   "metadata": {},
   "outputs": [],
   "source": [
    "v.sort()"
   ]
  },
  {
   "cell_type": "code",
   "execution_count": 43,
   "id": "2636ac35-cd01-4814-b79c-cc70b04630c3",
   "metadata": {},
   "outputs": [
    {
     "data": {
      "text/plain": [
       "array([1, 2, 3, 4, 5])"
      ]
     },
     "execution_count": 43,
     "metadata": {},
     "output_type": "execute_result"
    }
   ],
   "source": [
    "v"
   ]
  },
  {
   "cell_type": "code",
   "execution_count": 44,
   "id": "4e72cb19-381e-4186-b463-e8070bff11fa",
   "metadata": {},
   "outputs": [],
   "source": [
    "#iki boyutlu array siralama"
   ]
  },
  {
   "cell_type": "code",
   "execution_count": 45,
   "id": "a0bc1e93-1a71-43dd-ba9a-352ed41ef72c",
   "metadata": {},
   "outputs": [],
   "source": [
    "m = np.random.normal(30,5, (3,3))"
   ]
  },
  {
   "cell_type": "code",
   "execution_count": 46,
   "id": "209b0162-a149-447b-ba07-f7089bcfb8aa",
   "metadata": {},
   "outputs": [
    {
     "data": {
      "text/plain": [
       "array([[26.29227051, 37.47667903, 35.07037399],\n",
       "       [27.40578372, 25.57365445, 21.10453012],\n",
       "       [33.47150533, 29.47952666, 22.39369449]])"
      ]
     },
     "execution_count": 46,
     "metadata": {},
     "output_type": "execute_result"
    }
   ],
   "source": [
    "m"
   ]
  },
  {
   "cell_type": "code",
   "execution_count": 50,
   "id": "b3eeff80-9839-41c9-919b-e29c73d75dbe",
   "metadata": {},
   "outputs": [
    {
     "data": {
      "text/plain": [
       "array([[26.29227051, 35.07037399, 37.47667903],\n",
       "       [21.10453012, 25.57365445, 27.40578372],\n",
       "       [22.39369449, 29.47952666, 33.47150533]])"
      ]
     },
     "execution_count": 50,
     "metadata": {},
     "output_type": "execute_result"
    }
   ],
   "source": [
    "np.sort(m, axis=1)    #yatayda (satirlara gore) siralama yapti"
   ]
  },
  {
   "cell_type": "code",
   "execution_count": 51,
   "id": "18dea13a-6f79-46a3-bc8d-c56ae857965c",
   "metadata": {},
   "outputs": [
    {
     "data": {
      "text/plain": [
       "array([[26.29227051, 25.57365445, 21.10453012],\n",
       "       [27.40578372, 29.47952666, 22.39369449],\n",
       "       [33.47150533, 37.47667903, 35.07037399]])"
      ]
     },
     "execution_count": 51,
     "metadata": {},
     "output_type": "execute_result"
    }
   ],
   "source": [
    "np.sort(m, axis=0)    #dikeyde (sutunlara gore) siralama yapti"
   ]
  },
  {
   "cell_type": "markdown",
   "id": "97416287-6788-4c55-93fc-ce0fe21dbf2d",
   "metadata": {},
   "source": [
    "**Index ile elemanlara erismek**"
   ]
  },
  {
   "cell_type": "code",
   "execution_count": 52,
   "id": "3738f20c-f1ca-4f63-a468-446e14f5755c",
   "metadata": {},
   "outputs": [],
   "source": [
    "a = np.random.randint(10,size=10)"
   ]
  },
  {
   "cell_type": "code",
   "execution_count": 53,
   "id": "3e52bda2-5f41-4ff2-9ab5-e416cc9f2a57",
   "metadata": {},
   "outputs": [
    {
     "data": {
      "text/plain": [
       "array([3, 0, 7, 5, 4, 5, 2, 0, 5, 2])"
      ]
     },
     "execution_count": 53,
     "metadata": {},
     "output_type": "execute_result"
    }
   ],
   "source": [
    "a"
   ]
  },
  {
   "cell_type": "code",
   "execution_count": 55,
   "id": "854ad90b-9b57-46fd-8ac2-7eca0a826058",
   "metadata": {},
   "outputs": [
    {
     "data": {
      "text/plain": [
       "array([[1, 5, 9, 4, 1],\n",
       "       [1, 9, 4, 6, 0],\n",
       "       [6, 5, 5, 0, 2]])"
      ]
     },
     "execution_count": 55,
     "metadata": {},
     "output_type": "execute_result"
    }
   ],
   "source": [
    "m = np.random.randint(10,size=(3,5))\n",
    "m"
   ]
  },
  {
   "cell_type": "code",
   "execution_count": 56,
   "id": "9473ce6d-7368-4e3c-b666-f3ea82493ff8",
   "metadata": {},
   "outputs": [
    {
     "data": {
      "text/plain": [
       "1"
      ]
     },
     "execution_count": 56,
     "metadata": {},
     "output_type": "execute_result"
    }
   ],
   "source": [
    "m[0][0]"
   ]
  },
  {
   "cell_type": "markdown",
   "id": "0a958773-165c-48e6-bcb3-867e4f24e3e2",
   "metadata": {},
   "source": [
    "**Slicing**"
   ]
  },
  {
   "cell_type": "code",
   "execution_count": 57,
   "id": "15ee8001-bcdb-4d55-8c0f-8259dfeb9925",
   "metadata": {},
   "outputs": [
    {
     "data": {
      "text/plain": [
       "array([20, 21, 22, 23, 24, 25, 26, 27, 28, 29])"
      ]
     },
     "execution_count": 57,
     "metadata": {},
     "output_type": "execute_result"
    }
   ],
   "source": [
    "a = np.arange(20,30)\n",
    "a"
   ]
  },
  {
   "cell_type": "code",
   "execution_count": 59,
   "id": "9002b028-fc01-4196-a171-901781bd3ee0",
   "metadata": {},
   "outputs": [
    {
     "data": {
      "text/plain": [
       "array([22, 25, 28])"
      ]
     },
     "execution_count": 59,
     "metadata": {},
     "output_type": "execute_result"
    }
   ],
   "source": [
    "a[2::3]  #ikiden baslayarak ucer ucer git"
   ]
  },
  {
   "cell_type": "code",
   "execution_count": 60,
   "id": "f046ad3c-f349-4f27-ba1e-f2102a2cfe49",
   "metadata": {},
   "outputs": [],
   "source": [
    "#iki boyutlu slice islemleri"
   ]
  },
  {
   "cell_type": "code",
   "execution_count": 61,
   "id": "2b884da1-7d19-42f1-b4cf-ed90f0dc90ef",
   "metadata": {},
   "outputs": [
    {
     "data": {
      "text/plain": [
       "array([[8, 0, 2, 5, 0],\n",
       "       [5, 1, 7, 8, 5],\n",
       "       [8, 3, 6, 7, 3],\n",
       "       [4, 7, 4, 5, 3],\n",
       "       [2, 5, 6, 4, 3]])"
      ]
     },
     "execution_count": 61,
     "metadata": {},
     "output_type": "execute_result"
    }
   ],
   "source": [
    "m = np.random.randint(10,size=(5,5))\n",
    "m"
   ]
  },
  {
   "cell_type": "code",
   "execution_count": 63,
   "id": "77cd362e-f9bb-410c-9f71-5e78a57ed97d",
   "metadata": {},
   "outputs": [
    {
     "data": {
      "text/plain": [
       "array([8, 5, 8, 4, 2])"
      ]
     },
     "execution_count": 63,
     "metadata": {},
     "output_type": "execute_result"
    }
   ],
   "source": [
    "m[:,0]  #butun satirlari sec ve 0. sutun"
   ]
  },
  {
   "cell_type": "code",
   "execution_count": 64,
   "id": "e12d4db9-3aa0-46ad-8834-bd781364a02b",
   "metadata": {},
   "outputs": [
    {
     "data": {
      "text/plain": [
       "array([0, 5, 3, 3, 3])"
      ]
     },
     "execution_count": 64,
     "metadata": {},
     "output_type": "execute_result"
    }
   ],
   "source": [
    "m[:,4]"
   ]
  },
  {
   "cell_type": "code",
   "execution_count": 65,
   "id": "d960a070-bba2-4a8f-9701-4371069aa59f",
   "metadata": {},
   "outputs": [
    {
     "data": {
      "text/plain": [
       "array([8, 0, 2, 5, 0])"
      ]
     },
     "execution_count": 65,
     "metadata": {},
     "output_type": "execute_result"
    }
   ],
   "source": [
    "m[0,:]"
   ]
  },
  {
   "cell_type": "code",
   "execution_count": 66,
   "id": "c8460077-696b-4b07-abc9-21b65b7656df",
   "metadata": {},
   "outputs": [
    {
     "data": {
      "text/plain": [
       "array([[8, 0, 2],\n",
       "       [5, 1, 7]])"
      ]
     },
     "execution_count": 66,
     "metadata": {},
     "output_type": "execute_result"
    }
   ],
   "source": [
    "m[0:2,0:3]"
   ]
  },
  {
   "cell_type": "code",
   "execution_count": 67,
   "id": "56958ab3-e743-4882-8e44-526d6bea8df6",
   "metadata": {},
   "outputs": [],
   "source": [
    "al_getir = [1,2,3]  # fancy index"
   ]
  },
  {
   "cell_type": "code",
   "execution_count": 68,
   "id": "8a70f3a4-0ba4-48f4-9141-be3f2e5bc67b",
   "metadata": {},
   "outputs": [
    {
     "data": {
      "text/plain": [
       "array([21, 22, 23])"
      ]
     },
     "execution_count": 68,
     "metadata": {},
     "output_type": "execute_result"
    }
   ],
   "source": [
    "a[al_getir]"
   ]
  },
  {
   "cell_type": "code",
   "execution_count": 69,
   "id": "61f984b4-f758-4e41-85d1-42f2067f8c09",
   "metadata": {},
   "outputs": [
    {
     "data": {
      "text/plain": [
       "array([[0, 2],\n",
       "       [1, 7],\n",
       "       [3, 6],\n",
       "       [7, 4],\n",
       "       [5, 6]])"
      ]
     },
     "execution_count": 69,
     "metadata": {},
     "output_type": "execute_result"
    }
   ],
   "source": [
    "#slice ile fancy\n",
    "m[0:,[1,2]]"
   ]
  },
  {
   "cell_type": "markdown",
   "id": "e581d0aa-e521-4e81-b184-08c67cbd9442",
   "metadata": {},
   "source": [
    "**Kosullu Eleman Islemleri**"
   ]
  },
  {
   "cell_type": "code",
   "execution_count": 71,
   "id": "4f251e2c-2116-4227-8f56-01782ca847c6",
   "metadata": {},
   "outputs": [],
   "source": [
    "v=np.array([1,2,3,4,5])"
   ]
  },
  {
   "cell_type": "code",
   "execution_count": 72,
   "id": "46ed1337-f5ee-4661-bd41-ec1cb9099e0c",
   "metadata": {},
   "outputs": [
    {
     "data": {
      "text/plain": [
       "array([ True,  True, False, False, False])"
      ]
     },
     "execution_count": 72,
     "metadata": {},
     "output_type": "execute_result"
    }
   ],
   "source": [
    "v<3"
   ]
  },
  {
   "cell_type": "code",
   "execution_count": 73,
   "id": "8afea711-2f82-482b-b09e-d6e3c1aebd37",
   "metadata": {},
   "outputs": [
    {
     "data": {
      "text/plain": [
       "array([1, 2])"
      ]
     },
     "execution_count": 73,
     "metadata": {},
     "output_type": "execute_result"
    }
   ],
   "source": [
    "v[v<3]"
   ]
  },
  {
   "cell_type": "code",
   "execution_count": 74,
   "id": "758b80d9-1032-49d8-b1b7-9a812696d65f",
   "metadata": {},
   "outputs": [
    {
     "data": {
      "text/plain": [
       "array([ 3,  6,  9, 12, 15])"
      ]
     },
     "execution_count": 74,
     "metadata": {},
     "output_type": "execute_result"
    }
   ],
   "source": [
    "v*3"
   ]
  },
  {
   "cell_type": "code",
   "execution_count": 75,
   "id": "edb37181-de2b-421b-898a-760a77844aae",
   "metadata": {},
   "outputs": [
    {
     "data": {
      "text/plain": [
       "array([0.2, 0.4, 0.6, 0.8, 1. ])"
      ]
     },
     "execution_count": 75,
     "metadata": {},
     "output_type": "execute_result"
    }
   ],
   "source": [
    "v/5"
   ]
  },
  {
   "cell_type": "markdown",
   "id": "e3aee82c-0ffb-41d4-834b-94cfbd9168a6",
   "metadata": {},
   "source": [
    "**Matematiksel İslemler**"
   ]
  },
  {
   "cell_type": "code",
   "execution_count": 76,
   "id": "e00a8dc9-bdf7-4850-b1e3-b272529bd80f",
   "metadata": {},
   "outputs": [],
   "source": [
    "v=np.array([1,2,3,4,5])"
   ]
  },
  {
   "cell_type": "code",
   "execution_count": 77,
   "id": "47c9c11a-7760-45ba-84ec-b2105fa84328",
   "metadata": {},
   "outputs": [],
   "source": [
    "#ufunc"
   ]
  },
  {
   "cell_type": "code",
   "execution_count": 80,
   "id": "dd8a1adf-d55f-4f52-bfb9-5c75e67dd8ec",
   "metadata": {},
   "outputs": [
    {
     "data": {
      "text/plain": [
       "array([0, 1, 2, 3, 4])"
      ]
     },
     "execution_count": 80,
     "metadata": {},
     "output_type": "execute_result"
    }
   ],
   "source": [
    "np.subtract(v,1)  #hepsinden bir cikar"
   ]
  },
  {
   "cell_type": "code",
   "execution_count": 81,
   "id": "16b010ba-7e5c-45f6-9ae8-89114bf9a770",
   "metadata": {},
   "outputs": [
    {
     "data": {
      "text/plain": [
       "array([2, 3, 4, 5, 6])"
      ]
     },
     "execution_count": 81,
     "metadata": {},
     "output_type": "execute_result"
    }
   ],
   "source": [
    "np.add(v,1)"
   ]
  },
  {
   "cell_type": "code",
   "execution_count": 82,
   "id": "9bac46e7-2265-47ed-8702-06543c28fa21",
   "metadata": {},
   "outputs": [
    {
     "data": {
      "text/plain": [
       "array([ 3,  6,  9, 12, 15])"
      ]
     },
     "execution_count": 82,
     "metadata": {},
     "output_type": "execute_result"
    }
   ],
   "source": [
    "np.multiply(v,3)"
   ]
  },
  {
   "cell_type": "code",
   "execution_count": 83,
   "id": "f1e6bb20-3a72-4b5d-8988-d4aa549f09fc",
   "metadata": {},
   "outputs": [
    {
     "data": {
      "text/plain": [
       "array([0.33333333, 0.66666667, 1.        , 1.33333333, 1.66666667])"
      ]
     },
     "execution_count": 83,
     "metadata": {},
     "output_type": "execute_result"
    }
   ],
   "source": [
    "np.divide(v,3)"
   ]
  },
  {
   "cell_type": "code",
   "execution_count": 85,
   "id": "d7fda609-6fee-49ae-84a8-d70664fa63fb",
   "metadata": {},
   "outputs": [
    {
     "data": {
      "text/plain": [
       "array([1, 0, 1, 0, 1], dtype=int32)"
      ]
     },
     "execution_count": 85,
     "metadata": {},
     "output_type": "execute_result"
    }
   ],
   "source": [
    "np.mod(v,2)   #v%2 ile ayni sey"
   ]
  },
  {
   "cell_type": "code",
   "execution_count": 86,
   "id": "cfeb49db-9304-42b0-b499-953d421340f5",
   "metadata": {},
   "outputs": [
    {
     "data": {
      "text/plain": [
       "array([3])"
      ]
     },
     "execution_count": 86,
     "metadata": {},
     "output_type": "execute_result"
    }
   ],
   "source": [
    "np.absolute(np.array([-3]))  #mutlak deger alma"
   ]
  },
  {
   "cell_type": "code",
   "execution_count": 90,
   "id": "cdbc20fd-93e5-4f33-aa37-65fc82d9f359",
   "metadata": {},
   "outputs": [
    {
     "data": {
      "text/plain": [
       "0.8939966636005579"
      ]
     },
     "execution_count": 90,
     "metadata": {},
     "output_type": "execute_result"
    }
   ],
   "source": [
    "np.sin(90)"
   ]
  },
  {
   "cell_type": "code",
   "execution_count": 89,
   "id": "d1883780-2743-41a7-b85f-c468564af333",
   "metadata": {},
   "outputs": [
    {
     "data": {
      "text/plain": [
       "-0.4480736161291701"
      ]
     },
     "execution_count": 89,
     "metadata": {},
     "output_type": "execute_result"
    }
   ],
   "source": [
    "np.cos(90)"
   ]
  },
  {
   "cell_type": "markdown",
   "id": "73c80661-126b-4d06-ae1a-548112abc706",
   "metadata": {},
   "source": [
    "* 5*x0 + x1 = 12\n",
    "* x0 + 3*x1  = 10"
   ]
  },
  {
   "cell_type": "code",
   "execution_count": 93,
   "id": "a572f887-04f6-4537-81ac-89caa3e68592",
   "metadata": {},
   "outputs": [],
   "source": [
    "a = np.array([[5,1],[1,3]])\n",
    "b = np.array([12,10])"
   ]
  },
  {
   "cell_type": "code",
   "execution_count": 94,
   "id": "453746be-8d0d-4560-8a1e-5b03078bbeb7",
   "metadata": {},
   "outputs": [
    {
     "data": {
      "text/plain": [
       "array([1.85714286, 2.71428571])"
      ]
     },
     "execution_count": 94,
     "metadata": {},
     "output_type": "execute_result"
    }
   ],
   "source": [
    "x = np.linalg.solve(a,b)\n",
    "x"
   ]
  },
  {
   "cell_type": "code",
   "execution_count": null,
   "id": "1cd0556c-34da-47c9-be8b-a3b49c677dcd",
   "metadata": {},
   "outputs": [],
   "source": []
  }
 ],
 "metadata": {
  "kernelspec": {
   "display_name": "Python 3 (ipykernel)",
   "language": "python",
   "name": "python3"
  },
  "language_info": {
   "codemirror_mode": {
    "name": "ipython",
    "version": 3
   },
   "file_extension": ".py",
   "mimetype": "text/x-python",
   "name": "python",
   "nbconvert_exporter": "python",
   "pygments_lexer": "ipython3",
   "version": "3.9.7"
  }
 },
 "nbformat": 4,
 "nbformat_minor": 5
}
